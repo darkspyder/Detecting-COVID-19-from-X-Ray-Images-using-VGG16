{
 "cells": [
  {
   "cell_type": "code",
   "execution_count": 1,
   "metadata": {},
   "outputs": [],
   "source": [
    "import numpy as np\n",
    "import pandas as pd\n",
    "import seaborn as sns\n",
    "import matplotlib.pyplot as plt\n",
    "%matplotlib inline"
   ]
  },
  {
   "cell_type": "code",
   "execution_count": 2,
   "metadata": {},
   "outputs": [],
   "source": [
    "from tensorflow.keras.preprocessing.image import ImageDataGenerator\n",
    "#load pre-trained models (models available VGG16, VGG19, ResNet50 etc)\n",
    "from tensorflow.keras.applications import VGG16, VGG19, ResNet50, InceptionV3\n",
    "from tensorflow.keras.models import Model\n",
    "from tensorflow.keras.layers import Activation\n",
    "from tensorflow.keras.layers import Dense, Dropout, BatchNormalization, Flatten, GlobalAveragePooling2D, Input, MaxPooling2D, AveragePooling2D\n",
    "from tensorflow.keras.layers import ReLU, Reshape, ZeroPadding2D, Softmax"
   ]
  },
  {
   "cell_type": "code",
   "execution_count": 3,
   "metadata": {},
   "outputs": [
    {
     "name": "stderr",
     "output_type": "stream",
     "text": [
      "Using TensorFlow backend.\n"
     ]
    }
   ],
   "source": [
    "from tensorflow.keras.optimizers import Adam, RMSprop, Adagrad, Adadelta\n",
    "from tensorflow.keras.utils import to_categorical\n",
    "from sklearn.preprocessing import LabelBinarizer, LabelEncoder, MinMaxScaler, StandardScaler, OneHotEncoder\n",
    "from sklearn.metrics import classification_report, confusion_matrix\n",
    "import argparse\n",
    "import cv2\n",
    "import os\n",
    "from imutils import paths\n",
    "import keras.backend as K\n",
    "from keras.callbacks import LearningRateScheduler, ModelCheckpoint"
   ]
  },
  {
   "cell_type": "code",
   "execution_count": 4,
   "metadata": {},
   "outputs": [],
   "source": [
    "#ap = argparse.ArgumentParser()"
   ]
  },
  {
   "cell_type": "code",
   "execution_count": 5,
   "metadata": {},
   "outputs": [],
   "source": [
    "#ap.add_argument('--dataset', required=True, help=\"path to input dataset\")\n",
    "#ap.add_argument('--model', type=str, default='covid19_dlmodel.model',help='output model file name')"
   ]
  },
  {
   "cell_type": "code",
   "execution_count": 6,
   "metadata": {},
   "outputs": [],
   "source": [
    "IMAGE_LIB = 'dataset/images/'"
   ]
  },
  {
   "cell_type": "code",
   "execution_count": 7,
   "metadata": {},
   "outputs": [
    {
     "name": "stdout",
     "output_type": "stream",
     "text": [
      "['0-IM-0033-0001-0001.jpeg', '0-IM-0240-0001.jpeg', '0-IM-0466-0001.jpeg', '0-NORMAL2-IM-0315-0001.jpeg', '0-NORMAL2-IM-0696-0001.jpeg', '0-NORMAL2-IM-0869-0001.jpeg', '0-NORMAL2-IM-1179-0001.jpeg', '0-person1102_bacteria_3043.jpeg', '0-person1290_virus_2215.jpeg', '0-person1558_bacteria_4066.jpeg', '0-person1599_virus_2776.jpeg', '0-person1830_bacteria_4693.jpeg', '0-person1935_bacteria_4849.jpeg', '0-person1_bacteria_2.jpeg', '0-person259_bacteria_1220.jpeg', '0-person339_bacteria_1574.jpeg', '0-person378_virus_761.jpeg', '0-person438_bacteria_1893.jpeg', '0-person525_bacteria_2216.jpeg', '0-person612_bacteria_2478.jpeg', '0-person651_bacteria_2543.jpeg', '0-person925_virus_1582.jpeg', '0-person934_virus_1595.jpeg', '0-person939_bacteria_2864.jpeg', '0-person989_virus_1667.jpeg', '1-auntminnie-a-2020_01_28_23_51_6665_2020_01_28_Vietnam_coronavirus.jpeg', '1-auntminnie-b-2020_01_28_23_51_6665_2020_01_28_Vietnam_coronavirus.jpeg', '1-auntminnie-c-2020_01_28_23_51_6665_2020_01_28_Vietnam_coronavirus.jpeg', '1-auntminnie-d-2020_01_28_23_51_6665_2020_01_28_Vietnam_coronavirus.jpeg', '1-lancet-case2a.jpg', '1-lancet-case2b.jpg', '1-nCoV-radiol.2020200269.fig1-day7.jpeg', '1-nejmc2001573_f1a.jpeg', '1-nejmc2001573_f1b.jpeg', '1-nejmoa2001191_f1-PA.jpeg', '1-nejmoa2001191_f3-PA.jpeg', '1-nejmoa2001191_f4.jpeg', '1-nejmoa2001191_f5-PA.jpeg', '1-radiol.2020200490.fig3.jpeg', '1-radiopedia-covid-19-pneumonia-2.jpg', '1-ryct.2020200028.fig1a.jpeg', '1-ryct.2020200034.fig2.jpeg', '1-ryct.2020200034.fig5-day0.jpeg', '1-ryct.2020200034.fig5-day4.jpeg', '1-ryct.2020200034.fig5-day7.jpeg', '1-s2.0-S0140673620303706-fx1_lrg.jpg', '1-s2.0-S0929664620300449-gr2_lrg-a.jpg', '1-s2.0-S0929664620300449-gr2_lrg-b.jpg', '1-s2.0-S0929664620300449-gr2_lrg-c.jpg', '1-s2.0-S0929664620300449-gr2_lrg-d.jpg']\n"
     ]
    }
   ],
   "source": [
    "images = [x for x in (os.listdir(IMAGE_LIB))]\n",
    "print(images)"
   ]
  },
  {
   "cell_type": "code",
   "execution_count": 8,
   "metadata": {},
   "outputs": [],
   "source": [
    "learning_rate = 0.0001\n",
    "epochs = 25\n",
    "batch_size = 5\n",
    "rate_decay = learning_rate / epochs"
   ]
  },
  {
   "cell_type": "code",
   "execution_count": 9,
   "metadata": {},
   "outputs": [],
   "source": [
    "image_set = []\n",
    "labels = []"
   ]
  },
  {
   "cell_type": "code",
   "execution_count": 10,
   "metadata": {},
   "outputs": [],
   "source": [
    "IMG_WIDTH = 300\n",
    "IMG_HEIGHT = 300\n",
    "channels = 3\n",
    "\n",
    "for filename in images:\n",
    "    label = filename[0]\n",
    "    image = cv2.imread(IMAGE_LIB + filename, cv2.IMREAD_UNCHANGED).astype(\"int16\").astype('float32')\n",
    "    image = cv2.cvtColor(image, cv2.COLOR_BGR2RGB)\n",
    "    image = cv2.resize(image, dsize=(IMG_WIDTH, IMG_HEIGHT), interpolation=cv2.INTER_LANCZOS4)/255.\n",
    "#    image = (image - np.min(image)) / (np.max(image) - np.min(image))\n",
    "    image_set.append(image)\n",
    "    labels.append(label)"
   ]
  },
  {
   "cell_type": "code",
   "execution_count": 11,
   "metadata": {},
   "outputs": [],
   "source": [
    "image_set = np.array(image_set)\n",
    "labels = np.array(labels)"
   ]
  },
  {
   "cell_type": "code",
   "execution_count": 12,
   "metadata": {},
   "outputs": [
    {
     "data": {
      "text/plain": [
       "array(['0', '0', '0', '0', '0', '0', '0', '0', '0', '0', '0', '0', '0',\n",
       "       '0', '0', '0', '0', '0', '0', '0', '0', '0', '0', '0', '0', '1',\n",
       "       '1', '1', '1', '1', '1', '1', '1', '1', '1', '1', '1', '1', '1',\n",
       "       '1', '1', '1', '1', '1', '1', '1', '1', '1', '1', '1'], dtype='<U1')"
      ]
     },
     "execution_count": 12,
     "metadata": {},
     "output_type": "execute_result"
    }
   ],
   "source": [
    "labels"
   ]
  },
  {
   "cell_type": "code",
   "execution_count": 13,
   "metadata": {},
   "outputs": [],
   "source": [
    "#lb = LabelBinarizer()\n",
    "#labels = lb.fit_transform(labels)\n",
    "#labels = to_categorical(labels)\n",
    "#labels"
   ]
  },
  {
   "cell_type": "code",
   "execution_count": 14,
   "metadata": {},
   "outputs": [
    {
     "data": {
      "text/plain": [
       "((40, 300, 300, 3), (10, 300, 300, 3), (40,), (10,))"
      ]
     },
     "execution_count": 14,
     "metadata": {},
     "output_type": "execute_result"
    }
   ],
   "source": [
    "from sklearn.model_selection import train_test_split\n",
    "train_X, test_X, train_Y, test_Y = train_test_split(image_set, labels, test_size=0.20, stratify=labels, random_state=0)\n",
    "train_X.shape, test_X.shape, train_Y.shape, test_Y.shape"
   ]
  },
  {
   "cell_type": "code",
   "execution_count": 15,
   "metadata": {},
   "outputs": [],
   "source": [
    "train_image_aug = ImageDataGenerator(\n",
    "                    rotation_range=15,\n",
    "#                    shear_range=0.2,\n",
    "#                    zoom_range=0.2,\n",
    "                    fill_mode=\"nearest\")"
   ]
  },
  {
   "cell_type": "code",
   "execution_count": 16,
   "metadata": {},
   "outputs": [
    {
     "name": "stdout",
     "output_type": "stream",
     "text": [
      "WARNING:tensorflow:From C:\\Users\\8pros\\Documents\\Anaconda\\lib\\site-packages\\tensorflow\\python\\ops\\resource_variable_ops.py:435: colocate_with (from tensorflow.python.framework.ops) is deprecated and will be removed in a future version.\n",
      "Instructions for updating:\n",
      "Colocations handled automatically by placer.\n"
     ]
    }
   ],
   "source": [
    "# load VGG16 without the fully connected part, fully connected part of the network will be constructed later\n",
    "base_model_V16 = VGG16(weights=\"imagenet\", include_top=False,input_tensor=Input(shape=(IMG_WIDTH, IMG_HEIGHT, channels)))"
   ]
  },
  {
   "cell_type": "code",
   "execution_count": 17,
   "metadata": {},
   "outputs": [
    {
     "name": "stdout",
     "output_type": "stream",
     "text": [
      "WARNING:tensorflow:From C:\\Users\\8pros\\Documents\\Anaconda\\lib\\site-packages\\tensorflow\\python\\keras\\layers\\core.py:143: calling dropout (from tensorflow.python.ops.nn_ops) with keep_prob is deprecated and will be removed in a future version.\n",
      "Instructions for updating:\n",
      "Please use `rate` instead of `keep_prob`. Rate should be set to `rate = 1 - keep_prob`.\n"
     ]
    }
   ],
   "source": [
    "model_head = base_model_V16.output\n",
    "model_head = MaxPooling2D(pool_size=(4, 4))(model_head)\n",
    "model_head = Flatten(name=\"flatten\")(model_head)\n",
    "model_head = Dense(64, activation=\"relu\")(model_head)\n",
    "model_head = Dropout(0.5)(model_head)\n",
    "model_head = Dense(32, activation=\"relu\")(model_head)\n",
    "model_head = Dropout(0.5)(model_head)\n",
    "model_head = Dense(1, activation=\"sigmoid\")(model_head)"
   ]
  },
  {
   "cell_type": "code",
   "execution_count": 18,
   "metadata": {},
   "outputs": [],
   "source": [
    "#Attach base model and head model together for training on image_set\n",
    "model = Model(inputs = base_model_V16.input, outputs = model_head)"
   ]
  },
  {
   "cell_type": "code",
   "execution_count": 19,
   "metadata": {},
   "outputs": [
    {
     "name": "stdout",
     "output_type": "stream",
     "text": [
      "_________________________________________________________________\n",
      "Layer (type)                 Output Shape              Param #   \n",
      "=================================================================\n",
      "input_1 (InputLayer)         (None, 300, 300, 3)       0         \n",
      "_________________________________________________________________\n",
      "block1_conv1 (Conv2D)        (None, 300, 300, 64)      1792      \n",
      "_________________________________________________________________\n",
      "block1_conv2 (Conv2D)        (None, 300, 300, 64)      36928     \n",
      "_________________________________________________________________\n",
      "block1_pool (MaxPooling2D)   (None, 150, 150, 64)      0         \n",
      "_________________________________________________________________\n",
      "block2_conv1 (Conv2D)        (None, 150, 150, 128)     73856     \n",
      "_________________________________________________________________\n",
      "block2_conv2 (Conv2D)        (None, 150, 150, 128)     147584    \n",
      "_________________________________________________________________\n",
      "block2_pool (MaxPooling2D)   (None, 75, 75, 128)       0         \n",
      "_________________________________________________________________\n",
      "block3_conv1 (Conv2D)        (None, 75, 75, 256)       295168    \n",
      "_________________________________________________________________\n",
      "block3_conv2 (Conv2D)        (None, 75, 75, 256)       590080    \n",
      "_________________________________________________________________\n",
      "block3_conv3 (Conv2D)        (None, 75, 75, 256)       590080    \n",
      "_________________________________________________________________\n",
      "block3_pool (MaxPooling2D)   (None, 37, 37, 256)       0         \n",
      "_________________________________________________________________\n",
      "block4_conv1 (Conv2D)        (None, 37, 37, 512)       1180160   \n",
      "_________________________________________________________________\n",
      "block4_conv2 (Conv2D)        (None, 37, 37, 512)       2359808   \n",
      "_________________________________________________________________\n",
      "block4_conv3 (Conv2D)        (None, 37, 37, 512)       2359808   \n",
      "_________________________________________________________________\n",
      "block4_pool (MaxPooling2D)   (None, 18, 18, 512)       0         \n",
      "_________________________________________________________________\n",
      "block5_conv1 (Conv2D)        (None, 18, 18, 512)       2359808   \n",
      "_________________________________________________________________\n",
      "block5_conv2 (Conv2D)        (None, 18, 18, 512)       2359808   \n",
      "_________________________________________________________________\n",
      "block5_conv3 (Conv2D)        (None, 18, 18, 512)       2359808   \n",
      "_________________________________________________________________\n",
      "block5_pool (MaxPooling2D)   (None, 9, 9, 512)         0         \n",
      "_________________________________________________________________\n",
      "max_pooling2d (MaxPooling2D) (None, 2, 2, 512)         0         \n",
      "_________________________________________________________________\n",
      "flatten (Flatten)            (None, 2048)              0         \n",
      "_________________________________________________________________\n",
      "dense (Dense)                (None, 64)                131136    \n",
      "_________________________________________________________________\n",
      "dropout (Dropout)            (None, 64)                0         \n",
      "_________________________________________________________________\n",
      "dense_1 (Dense)              (None, 32)                2080      \n",
      "_________________________________________________________________\n",
      "dropout_1 (Dropout)          (None, 32)                0         \n",
      "_________________________________________________________________\n",
      "dense_2 (Dense)              (None, 1)                 33        \n",
      "=================================================================\n",
      "Total params: 14,847,937\n",
      "Trainable params: 14,847,937\n",
      "Non-trainable params: 0\n",
      "_________________________________________________________________\n"
     ]
    }
   ],
   "source": [
    "model.summary()"
   ]
  },
  {
   "cell_type": "code",
   "execution_count": 20,
   "metadata": {},
   "outputs": [],
   "source": [
    "#freeze base model for training\n",
    "for layer in base_model_V16.layers:\n",
    "    layer.trainable = False"
   ]
  },
  {
   "cell_type": "code",
   "execution_count": 21,
   "metadata": {},
   "outputs": [
    {
     "name": "stdout",
     "output_type": "stream",
     "text": [
      "Compiling COVID-19 model...\n"
     ]
    }
   ],
   "source": [
    "print(\"Compiling COVID-19 model...\")\n",
    "opt = Adam(lr=learning_rate, decay=rate_decay)\n",
    "model.compile(loss=\"binary_crossentropy\", optimizer=opt, metrics=[\"accuracy\"])"
   ]
  },
  {
   "cell_type": "code",
   "execution_count": 22,
   "metadata": {},
   "outputs": [
    {
     "name": "stdout",
     "output_type": "stream",
     "text": [
      "Training COVID-19 model head...\n",
      "WARNING:tensorflow:From C:\\Users\\8pros\\Documents\\Anaconda\\lib\\site-packages\\tensorflow\\python\\ops\\math_ops.py:3066: to_int32 (from tensorflow.python.ops.math_ops) is deprecated and will be removed in a future version.\n",
      "Instructions for updating:\n",
      "Use tf.cast instead.\n",
      "Epoch 1/25\n",
      "10/10 [==============================] - 16s 2s/sample - loss: 0.6958 - acc: 0.5000\n",
      "8/8 [==============================] - 81s 10s/step - loss: 0.8542 - acc: 0.4500 - val_loss: 0.6958 - val_acc: 0.5000\n",
      "Epoch 2/25\n",
      "10/10 [==============================] - 14s 1s/sample - loss: 0.6710 - acc: 0.6000\n",
      "8/8 [==============================] - 76s 9s/step - loss: 0.8190 - acc: 0.4750 - val_loss: 0.6710 - val_acc: 0.6000\n",
      "Epoch 3/25\n",
      "10/10 [==============================] - 14s 1s/sample - loss: 0.6612 - acc: 0.7000\n",
      "8/8 [==============================] - 74s 9s/step - loss: 0.6857 - acc: 0.5500 - val_loss: 0.6612 - val_acc: 0.7000\n",
      "Epoch 4/25\n",
      "10/10 [==============================] - 19s 2s/sample - loss: 0.6605 - acc: 0.7000\n",
      "8/8 [==============================] - 90s 11s/step - loss: 0.7123 - acc: 0.5000 - val_loss: 0.6605 - val_acc: 0.7000\n",
      "Epoch 5/25\n",
      "10/10 [==============================] - 15s 1s/sample - loss: 0.6530 - acc: 0.8000\n",
      "8/8 [==============================] - 75s 9s/step - loss: 0.7567 - acc: 0.5500 - val_loss: 0.6530 - val_acc: 0.8000\n",
      "Epoch 6/25\n",
      "10/10 [==============================] - 15s 1s/sample - loss: 0.6385 - acc: 0.7000\n",
      "8/8 [==============================] - 74s 9s/step - loss: 0.6580 - acc: 0.5250 - val_loss: 0.6385 - val_acc: 0.7000\n",
      "Epoch 7/25\n",
      "10/10 [==============================] - 16s 2s/sample - loss: 0.6412 - acc: 0.6000\n",
      "8/8 [==============================] - 78s 10s/step - loss: 0.7679 - acc: 0.5750 - val_loss: 0.6412 - val_acc: 0.6000\n",
      "Epoch 8/25\n",
      "10/10 [==============================] - 15s 1s/sample - loss: 0.6504 - acc: 0.6000\n",
      "8/8 [==============================] - 77s 10s/step - loss: 0.6456 - acc: 0.6000 - val_loss: 0.6504 - val_acc: 0.6000\n",
      "Epoch 9/25\n",
      "10/10 [==============================] - 15s 1s/sample - loss: 0.6510 - acc: 0.6000\n",
      "8/8 [==============================] - 78s 10s/step - loss: 0.6780 - acc: 0.5250 - val_loss: 0.6510 - val_acc: 0.6000\n",
      "Epoch 10/25\n",
      "10/10 [==============================] - 17s 2s/sample - loss: 0.6424 - acc: 0.6000\n",
      "8/8 [==============================] - 86s 11s/step - loss: 0.6883 - acc: 0.6000 - val_loss: 0.6424 - val_acc: 0.6000\n",
      "Epoch 11/25\n",
      "10/10 [==============================] - 15s 1s/sample - loss: 0.6259 - acc: 0.8000\n",
      "8/8 [==============================] - 75s 9s/step - loss: 0.7238 - acc: 0.5500 - val_loss: 0.6259 - val_acc: 0.8000\n",
      "Epoch 12/25\n",
      "10/10 [==============================] - 14s 1s/sample - loss: 0.6275 - acc: 0.7000\n",
      "8/8 [==============================] - 74s 9s/step - loss: 0.6426 - acc: 0.7000 - val_loss: 0.6275 - val_acc: 0.7000\n",
      "Epoch 13/25\n",
      "10/10 [==============================] - 14s 1s/sample - loss: 0.6209 - acc: 0.8000\n",
      "8/8 [==============================] - 73s 9s/step - loss: 0.5989 - acc: 0.7500 - val_loss: 0.6209 - val_acc: 0.8000\n",
      "Epoch 14/25\n",
      "10/10 [==============================] - 16s 2s/sample - loss: 0.6219 - acc: 0.8000\n",
      "8/8 [==============================] - 76s 9s/step - loss: 0.6231 - acc: 0.7250 - val_loss: 0.6219 - val_acc: 0.8000\n",
      "Epoch 15/25\n",
      "10/10 [==============================] - 13s 1s/sample - loss: 0.6163 - acc: 0.6000\n",
      "8/8 [==============================] - 68s 9s/step - loss: 0.6018 - acc: 0.6750 - val_loss: 0.6163 - val_acc: 0.6000\n",
      "Epoch 16/25\n",
      "10/10 [==============================] - 16s 2s/sample - loss: 0.6065 - acc: 0.8000\n",
      "8/8 [==============================] - 73s 9s/step - loss: 0.6036 - acc: 0.7000 - val_loss: 0.6065 - val_acc: 0.8000\n",
      "Epoch 17/25\n",
      "10/10 [==============================] - 17s 2s/sample - loss: 0.6045 - acc: 0.9000\n",
      "8/8 [==============================] - 73s 9s/step - loss: 0.5926 - acc: 0.6500 - val_loss: 0.6045 - val_acc: 0.9000\n",
      "Epoch 18/25\n",
      "10/10 [==============================] - 15s 2s/sample - loss: 0.6098 - acc: 0.7000\n",
      "8/8 [==============================] - 76s 9s/step - loss: 0.5480 - acc: 0.7500 - val_loss: 0.6098 - val_acc: 0.7000\n",
      "Epoch 19/25\n",
      "10/10 [==============================] - 14s 1s/sample - loss: 0.6114 - acc: 0.7000\n",
      "8/8 [==============================] - 73s 9s/step - loss: 0.5828 - acc: 0.6500 - val_loss: 0.6114 - val_acc: 0.7000\n",
      "Epoch 20/25\n",
      "10/10 [==============================] - 16s 2s/sample - loss: 0.6107 - acc: 0.8000\n",
      "8/8 [==============================] - 80s 10s/step - loss: 0.5577 - acc: 0.6750 - val_loss: 0.6107 - val_acc: 0.8000\n",
      "Epoch 21/25\n",
      "10/10 [==============================] - 14s 1s/sample - loss: 0.5979 - acc: 0.8000\n",
      "8/8 [==============================] - 75s 9s/step - loss: 0.5386 - acc: 0.7000 - val_loss: 0.5979 - val_acc: 0.8000\n",
      "Epoch 22/25\n",
      "10/10 [==============================] - 13s 1s/sample - loss: 0.5779 - acc: 0.9000\n",
      "8/8 [==============================] - 69s 9s/step - loss: 0.4646 - acc: 0.8500 - val_loss: 0.5779 - val_acc: 0.9000\n",
      "Epoch 23/25\n",
      "10/10 [==============================] - 13s 1s/sample - loss: 0.5756 - acc: 0.9000\n",
      "8/8 [==============================] - 67s 8s/step - loss: 0.5583 - acc: 0.7750 - val_loss: 0.5756 - val_acc: 0.9000\n",
      "Epoch 24/25\n",
      "10/10 [==============================] - 13s 1s/sample - loss: 0.5745 - acc: 0.9000\n",
      "8/8 [==============================] - 67s 8s/step - loss: 0.5054 - acc: 0.7500 - val_loss: 0.5745 - val_acc: 0.9000\n",
      "Epoch 25/25\n",
      "10/10 [==============================] - 13s 1s/sample - loss: 0.5683 - acc: 1.0000\n",
      "8/8 [==============================] - 68s 8s/step - loss: 0.5141 - acc: 0.7500 - val_loss: 0.5683 - val_acc: 1.0000\n"
     ]
    }
   ],
   "source": [
    "print(\"Training COVID-19 model head...\")\n",
    "H = model.fit_generator(train_image_aug.flow(train_X, train_Y, batch_size=batch_size),\n",
    "                        steps_per_epoch = 200,\n",
    "                        validation_data = (test_X, test_Y),\n",
    "                        validation_steps = len(test_X) // batch_size,\n",
    "                        epochs=epochs)"
   ]
  },
  {
   "cell_type": "code",
   "execution_count": 23,
   "metadata": {},
   "outputs": [],
   "source": [
    "y_pred = model.predict(test_X, batch_size=batch_size)"
   ]
  },
  {
   "cell_type": "code",
   "execution_count": 24,
   "metadata": {},
   "outputs": [],
   "source": [
    "y_pred = y_pred>0.5"
   ]
  },
  {
   "cell_type": "code",
   "execution_count": 25,
   "metadata": {},
   "outputs": [],
   "source": [
    "test_Y = np.array(test_Y, dtype=int)"
   ]
  },
  {
   "cell_type": "code",
   "execution_count": 26,
   "metadata": {},
   "outputs": [
    {
     "name": "stdout",
     "output_type": "stream",
     "text": [
      "              precision    recall  f1-score   support\n",
      "\n",
      "           0       1.00      1.00      1.00         5\n",
      "           1       1.00      1.00      1.00         5\n",
      "\n",
      "    accuracy                           1.00        10\n",
      "   macro avg       1.00      1.00      1.00        10\n",
      "weighted avg       1.00      1.00      1.00        10\n",
      "\n"
     ]
    }
   ],
   "source": [
    "print(classification_report(test_Y, y_pred))"
   ]
  },
  {
   "cell_type": "code",
   "execution_count": 27,
   "metadata": {},
   "outputs": [],
   "source": [
    "cm = confusion_matrix(test_Y, y_pred)\n",
    "total = sum(sum(cm))\n",
    "accuracy = (cm[0, 0] + cm[1, 1]) / total\n",
    "sensitivity = cm[0, 0] / (cm[0, 0] + cm[0, 1])\n",
    "specificity = cm[1, 1] / (cm[1, 0] + cm[1, 1])"
   ]
  },
  {
   "cell_type": "code",
   "execution_count": 28,
   "metadata": {},
   "outputs": [
    {
     "name": "stdout",
     "output_type": "stream",
     "text": [
      "[[5 0]\n",
      " [0 5]]\n",
      "accuracy: 1.0000\n",
      "sensitivity: 1.0000\n",
      "specificity: 1.0000\n"
     ]
    }
   ],
   "source": [
    "print(cm)\n",
    "print(\"accuracy: {:.4f}\".format(accuracy))\n",
    "print(\"sensitivity: {:.4f}\".format(sensitivity))\n",
    "print(\"specificity: {:.4f}\".format(specificity))"
   ]
  },
  {
   "cell_type": "code",
   "execution_count": 29,
   "metadata": {},
   "outputs": [
    {
     "data": {
      "text/plain": [
       "<matplotlib.legend.Legend at 0x22e549ee978>"
      ]
     },
     "execution_count": 29,
     "metadata": {},
     "output_type": "execute_result"
    },
    {
     "data": {
      "image/png": "[encoded data removed]",
      "text/plain": [
       "<Figure size 432x288 with 1 Axes>"
      ]
     },
     "metadata": {},
     "output_type": "display_data"
    }
   ],
   "source": [
    "N = epochs\n",
    "plt.style.use(\"ggplot\")\n",
    "plt.figure()\n",
    "plt.plot(np.arange(0, N), H.history[\"loss\"], label=\"train_loss\")\n",
    "plt.plot(np.arange(0, N), H.history[\"val_loss\"], label=\"val_loss\")\n",
    "plt.plot(np.arange(0, N), H.history[\"acc\"], label=\"train_acc\")\n",
    "plt.plot(np.arange(0, N), H.history[\"val_acc\"], label=\"val_acc\")\n",
    "plt.title(\"Training Loss and Accuracy on COVID-19 Dataset\")\n",
    "plt.xlabel(\"Epoch #\")\n",
    "plt.ylabel(\"Loss/Accuracy\")\n",
    "plt.legend(loc=\"lower left\")"
   ]
  },
  {
   "cell_type": "code",
   "execution_count": null,
   "metadata": {},
   "outputs": [],
   "source": [
    "#base_model_V19 = VGG19(weights=\"imagenet\", include_top=False,input_tensor=Input(shape=(IMG_WIDTH, IMG_HEIGHT, channels)))"
   ]
  },
  {
   "cell_type": "code",
   "execution_count": null,
   "metadata": {},
   "outputs": [],
   "source": [
    "#model_head = base_model_V19.output\n",
    "#model_head = MaxPooling2D(pool_size=(4, 4))(model_head)\n",
    "#model_head = Flatten(name=\"flatten\")(model_head)\n",
    "#model_head = Dense(64, activation=\"relu\")(model_head)\n",
    "#model_head = Dropout(0.5)(model_head)\n",
    "#model_head = Dense(1, activation=\"sigmoid\")(model_head)"
   ]
  },
  {
   "cell_type": "code",
   "execution_count": null,
   "metadata": {},
   "outputs": [],
   "source": [
    "#Attach base model and head model together for training on image_set\n",
    "#model_V19 = Model(inputs = base_model_V19.input, outputs = model_head)\n",
    "\n",
    "#freeze base model for training\n",
    "#for layer in base_model_V19.layers:\n",
    "#    layer.trainable = False"
   ]
  },
  {
   "cell_type": "code",
   "execution_count": null,
   "metadata": {},
   "outputs": [],
   "source": [
    "#print(\"Compiling COVID-19 VGG19 model...\")\n",
    "#opt = Adam(lr=learning_rate, decay=rate_decay)\n",
    "#model_V19.compile(loss=\"binary_crossentropy\", optimizer=opt, metrics=[\"accuracy\"])"
   ]
  },
  {
   "cell_type": "code",
   "execution_count": null,
   "metadata": {},
   "outputs": [],
   "source": [
    "#print(\"Training COVID-19 model head...\")\n",
    "#H_V19 = model_V19.fit_generator(train_image_aug.flow(train_X, train_Y, batch_size=batch_size),\n",
    "#                        steps_per_epoch = 200,\n",
    "#                        validation_data = (test_X, test_Y),\n",
    "#                        validation_steps = len(test_X) // batch_size,\n",
    "#                        epochs=epochs)"
   ]
  },
  {
   "cell_type": "code",
   "execution_count": null,
   "metadata": {},
   "outputs": [],
   "source": []
  }
 ],
 "metadata": {
  "kernelspec": {
   "display_name": "Python 3",
   "language": "python",
   "name": "python3"
  },
  "language_info": {
   "codemirror_mode": {
    "name": "ipython",
    "version": 3
   },
   "file_extension": ".py",
   "mimetype": "text/x-python",
   "name": "python",
   "nbconvert_exporter": "python",
   "pygments_lexer": "ipython3",
   "version": "3.7.3"
  }
 },
 "nbformat": 4,
 "nbformat_minor": 2
}
